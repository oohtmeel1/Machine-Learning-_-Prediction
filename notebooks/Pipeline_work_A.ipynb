{
 "cells": [
  {
   "cell_type": "code",
   "execution_count": 2,
   "metadata": {},
   "outputs": [
    {
     "name": "stdout",
     "output_type": "stream",
     "text": [
      "Requirement already satisfied: asttokens==2.4.1 in c:\\users\\amcfa\\appdata\\roaming\\python\\python311\\site-packages (from -r requirements.txt (line 1)) (2.4.1)\n",
      "Requirement already satisfied: attrs==23.2.0 in c:\\gitfiles\\lib\\site-packages (from -r requirements.txt (line 2)) (23.2.0)\n",
      "Requirement already satisfied: backcall==0.2.0 in c:\\users\\amcfa\\appdata\\roaming\\python\\python311\\site-packages (from -r requirements.txt (line 3)) (0.2.0)\n",
      "Requirement already satisfied: beautifulsoup4==4.12.3 in c:\\gitfiles\\lib\\site-packages (from -r requirements.txt (line 4)) (4.12.3)\n",
      "Requirement already satisfied: bleach==6.1.0 in c:\\gitfiles\\lib\\site-packages (from -r requirements.txt (line 5)) (6.1.0)\n",
      "Requirement already satisfied: certifi==2024.2.2 in c:\\gitfiles\\lib\\site-packages (from -r requirements.txt (line 6)) (2024.2.2)\n",
      "Requirement already satisfied: charset-normalizer==3.3.2 in c:\\gitfiles\\lib\\site-packages (from -r requirements.txt (line 7)) (3.3.2)\n",
      "Requirement already satisfied: colorama==0.4.6 in c:\\users\\amcfa\\appdata\\roaming\\python\\python311\\site-packages (from -r requirements.txt (line 8)) (0.4.6)\n",
      "Requirement already satisfied: comm==0.2.1 in c:\\users\\amcfa\\appdata\\roaming\\python\\python311\\site-packages (from -r requirements.txt (line 9)) (0.2.1)\n",
      "Requirement already satisfied: contourpy==1.2.0 in c:\\gitfiles\\lib\\site-packages (from -r requirements.txt (line 10)) (1.2.0)\n",
      "Requirement already satisfied: cycler==0.12.1 in c:\\gitfiles\\lib\\site-packages (from -r requirements.txt (line 11)) (0.12.1)\n",
      "Requirement already satisfied: debugpy==1.8.1 in c:\\users\\amcfa\\appdata\\roaming\\python\\python311\\site-packages (from -r requirements.txt (line 12)) (1.8.1)\n",
      "Requirement already satisfied: decorator==5.1.1 in c:\\users\\amcfa\\appdata\\roaming\\python\\python311\\site-packages (from -r requirements.txt (line 13)) (5.1.1)\n",
      "Requirement already satisfied: defusedxml==0.7.1 in c:\\gitfiles\\lib\\site-packages (from -r requirements.txt (line 14)) (0.7.1)\n",
      "Requirement already satisfied: docopt==0.6.2 in c:\\gitfiles\\lib\\site-packages (from -r requirements.txt (line 15)) (0.6.2)\n",
      "Requirement already satisfied: executing==2.0.1 in c:\\users\\amcfa\\appdata\\roaming\\python\\python311\\site-packages (from -r requirements.txt (line 16)) (2.0.1)\n",
      "Requirement already satisfied: fastjsonschema==2.19.1 in c:\\gitfiles\\lib\\site-packages (from -r requirements.txt (line 17)) (2.19.1)\n",
      "Requirement already satisfied: fonttools==4.49.0 in c:\\gitfiles\\lib\\site-packages (from -r requirements.txt (line 18)) (4.49.0)\n",
      "Requirement already satisfied: idna==3.6 in c:\\gitfiles\\lib\\site-packages (from -r requirements.txt (line 19)) (3.6)\n",
      "Requirement already satisfied: ipykernel==6.29.2 in c:\\users\\amcfa\\appdata\\roaming\\python\\python311\\site-packages (from -r requirements.txt (line 20)) (6.29.2)\n",
      "Requirement already satisfied: ipython==8.12.3 in c:\\gitfiles\\lib\\site-packages (from -r requirements.txt (line 21)) (8.12.3)\n",
      "Requirement already satisfied: jedi==0.19.1 in c:\\users\\amcfa\\appdata\\roaming\\python\\python311\\site-packages (from -r requirements.txt (line 22)) (0.19.1)\n",
      "Requirement already satisfied: Jinja2==3.1.3 in c:\\gitfiles\\lib\\site-packages (from -r requirements.txt (line 23)) (3.1.3)\n",
      "Requirement already satisfied: joblib==1.3.2 in c:\\gitfiles\\lib\\site-packages (from -r requirements.txt (line 24)) (1.3.2)\n",
      "Requirement already satisfied: jsonschema==4.21.1 in c:\\gitfiles\\lib\\site-packages (from -r requirements.txt (line 25)) (4.21.1)\n",
      "Requirement already satisfied: jsonschema-specifications==2023.12.1 in c:\\gitfiles\\lib\\site-packages (from -r requirements.txt (line 26)) (2023.12.1)\n",
      "Requirement already satisfied: jupyter_client==8.6.0 in c:\\users\\amcfa\\appdata\\roaming\\python\\python311\\site-packages (from -r requirements.txt (line 27)) (8.6.0)\n",
      "Requirement already satisfied: jupyter_core==5.7.1 in c:\\users\\amcfa\\appdata\\roaming\\python\\python311\\site-packages (from -r requirements.txt (line 28)) (5.7.1)\n",
      "Requirement already satisfied: jupyterlab_pygments==0.3.0 in c:\\gitfiles\\lib\\site-packages (from -r requirements.txt (line 29)) (0.3.0)\n",
      "Requirement already satisfied: kiwisolver==1.4.5 in c:\\gitfiles\\lib\\site-packages (from -r requirements.txt (line 30)) (1.4.5)\n",
      "Requirement already satisfied: MarkupSafe==2.1.5 in c:\\gitfiles\\lib\\site-packages (from -r requirements.txt (line 31)) (2.1.5)\n",
      "Requirement already satisfied: matplotlib==3.8.3 in c:\\gitfiles\\lib\\site-packages (from -r requirements.txt (line 32)) (3.8.3)\n",
      "Requirement already satisfied: matplotlib-inline==0.1.6 in c:\\users\\amcfa\\appdata\\roaming\\python\\python311\\site-packages (from -r requirements.txt (line 33)) (0.1.6)\n",
      "Requirement already satisfied: mistune==3.0.2 in c:\\gitfiles\\lib\\site-packages (from -r requirements.txt (line 34)) (3.0.2)\n",
      "Requirement already satisfied: nbclient==0.9.0 in c:\\gitfiles\\lib\\site-packages (from -r requirements.txt (line 35)) (0.9.0)\n",
      "Requirement already satisfied: nbconvert==7.16.1 in c:\\gitfiles\\lib\\site-packages (from -r requirements.txt (line 36)) (7.16.1)\n",
      "Requirement already satisfied: nbformat==5.9.2 in c:\\gitfiles\\lib\\site-packages (from -r requirements.txt (line 37)) (5.9.2)\n",
      "Requirement already satisfied: nest-asyncio==1.6.0 in c:\\users\\amcfa\\appdata\\roaming\\python\\python311\\site-packages (from -r requirements.txt (line 38)) (1.6.0)\n",
      "Requirement already satisfied: numpy==1.26.4 in c:\\gitfiles\\lib\\site-packages (from -r requirements.txt (line 39)) (1.26.4)\n",
      "Requirement already satisfied: packaging==23.2 in c:\\users\\amcfa\\appdata\\roaming\\python\\python311\\site-packages (from -r requirements.txt (line 40)) (23.2)\n",
      "Requirement already satisfied: pandas==2.2.0 in c:\\gitfiles\\lib\\site-packages (from -r requirements.txt (line 41)) (2.2.0)\n",
      "Requirement already satisfied: pandocfilters==1.5.1 in c:\\gitfiles\\lib\\site-packages (from -r requirements.txt (line 42)) (1.5.1)\n",
      "Requirement already satisfied: parso==0.8.3 in c:\\users\\amcfa\\appdata\\roaming\\python\\python311\\site-packages (from -r requirements.txt (line 43)) (0.8.3)\n",
      "Requirement already satisfied: patsy==0.5.6 in c:\\gitfiles\\lib\\site-packages (from -r requirements.txt (line 44)) (0.5.6)\n",
      "Requirement already satisfied: pickleshare==0.7.5 in c:\\users\\amcfa\\appdata\\roaming\\python\\python311\\site-packages (from -r requirements.txt (line 45)) (0.7.5)\n",
      "Requirement already satisfied: pillow==10.2.0 in c:\\gitfiles\\lib\\site-packages (from -r requirements.txt (line 46)) (10.2.0)\n",
      "Requirement already satisfied: pipreqs==0.5.0 in c:\\gitfiles\\lib\\site-packages (from -r requirements.txt (line 47)) (0.5.0)\n",
      "Requirement already satisfied: platformdirs==4.2.0 in c:\\users\\amcfa\\appdata\\roaming\\python\\python311\\site-packages (from -r requirements.txt (line 48)) (4.2.0)\n",
      "Requirement already satisfied: prompt-toolkit==3.0.43 in c:\\users\\amcfa\\appdata\\roaming\\python\\python311\\site-packages (from -r requirements.txt (line 49)) (3.0.43)\n",
      "Requirement already satisfied: psutil==5.9.8 in c:\\users\\amcfa\\appdata\\roaming\\python\\python311\\site-packages (from -r requirements.txt (line 50)) (5.9.8)\n",
      "Requirement already satisfied: pure-eval==0.2.2 in c:\\users\\amcfa\\appdata\\roaming\\python\\python311\\site-packages (from -r requirements.txt (line 51)) (0.2.2)\n",
      "Requirement already satisfied: pyarrow==15.0.0 in c:\\gitfiles\\lib\\site-packages (from -r requirements.txt (line 52)) (15.0.0)\n",
      "Requirement already satisfied: Pygments==2.17.2 in c:\\users\\amcfa\\appdata\\roaming\\python\\python311\\site-packages (from -r requirements.txt (line 53)) (2.17.2)\n",
      "Requirement already satisfied: pyparsing==3.1.1 in c:\\gitfiles\\lib\\site-packages (from -r requirements.txt (line 54)) (3.1.1)\n",
      "Requirement already satisfied: python-dateutil==2.8.2 in c:\\users\\amcfa\\appdata\\roaming\\python\\python311\\site-packages (from -r requirements.txt (line 55)) (2.8.2)\n",
      "Requirement already satisfied: pytz==2024.1 in c:\\gitfiles\\lib\\site-packages (from -r requirements.txt (line 56)) (2024.1)\n",
      "Requirement already satisfied: pywin32==306 in c:\\users\\amcfa\\appdata\\roaming\\python\\python311\\site-packages (from -r requirements.txt (line 57)) (306)\n",
      "Requirement already satisfied: pyzmq==25.1.2 in c:\\users\\amcfa\\appdata\\roaming\\python\\python311\\site-packages (from -r requirements.txt (line 58)) (25.1.2)\n",
      "Requirement already satisfied: referencing==0.33.0 in c:\\gitfiles\\lib\\site-packages (from -r requirements.txt (line 59)) (0.33.0)\n",
      "Requirement already satisfied: requests==2.31.0 in c:\\gitfiles\\lib\\site-packages (from -r requirements.txt (line 60)) (2.31.0)\n",
      "Requirement already satisfied: rpds-py==0.18.0 in c:\\gitfiles\\lib\\site-packages (from -r requirements.txt (line 61)) (0.18.0)\n",
      "Requirement already satisfied: scikit-learn==1.4.1.post1 in c:\\gitfiles\\lib\\site-packages (from -r requirements.txt (line 62)) (1.4.1.post1)\n",
      "Requirement already satisfied: scipy==1.12.0 in c:\\gitfiles\\lib\\site-packages (from -r requirements.txt (line 63)) (1.12.0)\n",
      "Requirement already satisfied: seaborn==0.13.2 in c:\\gitfiles\\lib\\site-packages (from -r requirements.txt (line 64)) (0.13.2)\n",
      "Requirement already satisfied: six==1.16.0 in c:\\users\\amcfa\\appdata\\roaming\\python\\python311\\site-packages (from -r requirements.txt (line 65)) (1.16.0)\n",
      "Requirement already satisfied: soupsieve==2.5 in c:\\gitfiles\\lib\\site-packages (from -r requirements.txt (line 66)) (2.5)\n",
      "Requirement already satisfied: stack-data==0.6.3 in c:\\users\\amcfa\\appdata\\roaming\\python\\python311\\site-packages (from -r requirements.txt (line 67)) (0.6.3)\n",
      "Requirement already satisfied: statsmodels==0.14.1 in c:\\gitfiles\\lib\\site-packages (from -r requirements.txt (line 68)) (0.14.1)\n",
      "Requirement already satisfied: threadpoolctl==3.3.0 in c:\\gitfiles\\lib\\site-packages (from -r requirements.txt (line 69)) (3.3.0)\n",
      "Requirement already satisfied: tinycss2==1.2.1 in c:\\gitfiles\\lib\\site-packages (from -r requirements.txt (line 70)) (1.2.1)\n",
      "Requirement already satisfied: tornado==6.4 in c:\\users\\amcfa\\appdata\\roaming\\python\\python311\\site-packages (from -r requirements.txt (line 71)) (6.4)\n",
      "Requirement already satisfied: traitlets==5.14.1 in c:\\users\\amcfa\\appdata\\roaming\\python\\python311\\site-packages (from -r requirements.txt (line 72)) (5.14.1)\n",
      "Requirement already satisfied: tzdata==2024.1 in c:\\gitfiles\\lib\\site-packages (from -r requirements.txt (line 73)) (2024.1)\n",
      "Requirement already satisfied: urllib3==2.2.1 in c:\\gitfiles\\lib\\site-packages (from -r requirements.txt (line 74)) (2.2.1)\n",
      "Requirement already satisfied: wcwidth==0.2.13 in c:\\users\\amcfa\\appdata\\roaming\\python\\python311\\site-packages (from -r requirements.txt (line 75)) (0.2.13)\n",
      "Requirement already satisfied: webencodings==0.5.1 in c:\\gitfiles\\lib\\site-packages (from -r requirements.txt (line 76)) (0.5.1)\n",
      "Requirement already satisfied: yarg==0.1.9 in c:\\gitfiles\\lib\\site-packages (from -r requirements.txt (line 77)) (0.1.9)\n"
     ]
    },
    {
     "name": "stderr",
     "output_type": "stream",
     "text": [
      "\n",
      "[notice] A new release of pip is available: 23.3.2 -> 24.0\n",
      "[notice] To update, run: C:\\gitfiles\\python.exe -m pip install --upgrade pip\n"
     ]
    },
    {
     "ename": "ModuleNotFoundError",
     "evalue": "No module named 'pandas'",
     "output_type": "error",
     "traceback": [
      "\u001b[1;31m---------------------------------------------------------------------------\u001b[0m",
      "\u001b[1;31mModuleNotFoundError\u001b[0m                       Traceback (most recent call last)",
      "Cell \u001b[1;32mIn[2], line 2\u001b[0m\n\u001b[0;32m      1\u001b[0m get_ipython()\u001b[38;5;241m.\u001b[39msystem(\u001b[38;5;124m'\u001b[39m\u001b[38;5;124mpip install -r requirements.txt\u001b[39m\u001b[38;5;124m'\u001b[39m)\n\u001b[1;32m----> 2\u001b[0m \u001b[38;5;28;01mimport\u001b[39;00m \u001b[38;5;21;01mpandas\u001b[39;00m \u001b[38;5;28;01mas\u001b[39;00m \u001b[38;5;21;01mpd\u001b[39;00m\n\u001b[0;32m      3\u001b[0m \u001b[38;5;28;01mimport\u001b[39;00m \u001b[38;5;21;01mpyarrow\u001b[39;00m \u001b[38;5;28;01mas\u001b[39;00m \u001b[38;5;21;01mpa\u001b[39;00m\n\u001b[0;32m      4\u001b[0m \u001b[38;5;28;01mimport\u001b[39;00m \u001b[38;5;21;01mos\u001b[39;00m\n",
      "\u001b[1;31mModuleNotFoundError\u001b[0m: No module named 'pandas'"
     ]
    }
   ],
   "source": [
    "!pip install -r requirements.txt\n",
    "import pandas as pd\n",
    "import pyarrow as pa\n",
    "import os\n",
    "import zipfile\n",
    "import matplotlib.pyplot as plt \n",
    "from collections import Counter\n",
    "import numpy as np\n",
    "import statsmodels.api as sm\n",
    "import pylab\n",
    "import scipy.stats as stats\n",
    "import seaborn as sns\n",
    "import pandas as pd\n",
    "from sklearn.model_selection import train_test_split\n",
    "from sklearn.linear_model import LinearRegression\n",
    "\n",
    "pd.options.display.float_format = '{:.2f}'.format"
   ]
  },
  {
   "cell_type": "code",
   "execution_count": null,
   "metadata": {},
   "outputs": [],
   "source": [
    "#pip freeze > requirements.txt\n",
    "#aaaagggg"
   ]
  },
  {
   "cell_type": "code",
   "execution_count": 3,
   "metadata": {},
   "outputs": [
    {
     "name": "stderr",
     "output_type": "stream",
     "text": [
      "<>:1: SyntaxWarning: invalid escape sequence '\\C'\n",
      "<>:1: SyntaxWarning: invalid escape sequence '\\C'\n",
      "C:\\Users\\amcfa\\AppData\\Local\\Temp\\ipykernel_31368\\385161871.py:1: SyntaxWarning: invalid escape sequence '\\C'\n",
      "  file = pd.read_csv(os.getcwd()+ '\\Complete_SEDS.csv')\n",
      "C:\\Users\\amcfa\\AppData\\Local\\Temp\\ipykernel_31368\\385161871.py:1: SyntaxWarning: invalid escape sequence '\\C'\n",
      "  file = pd.read_csv(os.getcwd()+ '\\Complete_SEDS.csv')\n"
     ]
    },
    {
     "ename": "NameError",
     "evalue": "name 'pd' is not defined",
     "output_type": "error",
     "traceback": [
      "\u001b[1;31m---------------------------------------------------------------------------\u001b[0m",
      "\u001b[1;31mNameError\u001b[0m                                 Traceback (most recent call last)",
      "Cell \u001b[1;32mIn[3], line 1\u001b[0m\n\u001b[1;32m----> 1\u001b[0m file \u001b[38;5;241m=\u001b[39m \u001b[43mpd\u001b[49m\u001b[38;5;241m.\u001b[39mread_csv(os\u001b[38;5;241m.\u001b[39mgetcwd()\u001b[38;5;241m+\u001b[39m \u001b[38;5;124m'\u001b[39m\u001b[38;5;124m\\\u001b[39m\u001b[38;5;124mComplete_SEDS.csv\u001b[39m\u001b[38;5;124m'\u001b[39m)\n\u001b[0;32m      2\u001b[0m file1\u001b[38;5;241m=\u001b[39mfile\n\u001b[0;32m      3\u001b[0m codes \u001b[38;5;241m=\u001b[39m pd\u001b[38;5;241m.\u001b[39mread_csv(os\u001b[38;5;241m.\u001b[39mgetcwd()\u001b[38;5;241m+\u001b[39m \u001b[38;5;124m'\u001b[39m\u001b[38;5;124m/residential_sector_codes.csv\u001b[39m\u001b[38;5;124m'\u001b[39m)\n",
      "\u001b[1;31mNameError\u001b[0m: name 'pd' is not defined"
     ]
    }
   ],
   "source": [
    "file = pd.read_csv(os.getcwd()+ '\\Complete_SEDS.csv')\n",
    "file1=file\n",
    "codes = pd.read_csv(os.getcwd()+ '/residential_sector_codes.csv')\n",
    "codes.head(1)"
   ]
  },
  {
   "cell_type": "code",
   "execution_count": null,
   "metadata": {},
   "outputs": [],
   "source": [
    "file1['Year'] = pd.to_datetime(file1['Year'], format='%Y')\n",
    "file1=file1[~(file1['StateCode']=='US')]"
   ]
  },
  {
   "cell_type": "code",
   "execution_count": null,
   "metadata": {},
   "outputs": [],
   "source": [
    "file1"
   ]
  },
  {
   "cell_type": "code",
   "execution_count": null,
   "metadata": {},
   "outputs": [],
   "source": [
    "## take each unique variable in the file\n",
    "\t#Iterate over it and join them in 1 big dataframe\n",
    " "
   ]
  },
  {
   "cell_type": "code",
   "execution_count": null,
   "metadata": {},
   "outputs": [],
   "source": [
    "pqr = codes['CLHCK'].unique() #Taking the unique list of codes\n",
    "abc = len(pqr) #The length of codes\n",
    "new_list_of_titles = []\n",
    "dfs = []\n",
    "for i in pqr:\n",
    "\tif i not in new_list_of_titles:\n",
    "\t\tnew_list_of_titles.append(i)\n",
    "print(new_list_of_titles)\n",
    "\n",
    "\n"
   ]
  },
  {
   "cell_type": "code",
   "execution_count": null,
   "metadata": {},
   "outputs": [],
   "source": [
    "general_consumption= file1[file1['MSN'].str.contains('ESRCV')]"
   ]
  },
  {
   "cell_type": "code",
   "execution_count": null,
   "metadata": {},
   "outputs": [],
   "source": [
    "filtered_dfs = []  #Filtering dataframe, it is a bit slow though\n",
    "for i in new_list_of_titles:\n",
    "    a_= file1[file1['MSN'].str.contains(i)] # Go over each one \n",
    "    filtered_dfs.append(a_)"
   ]
  },
  {
   "cell_type": "code",
   "execution_count": null,
   "metadata": {},
   "outputs": [],
   "source": [
    "result_df = pd.concat(filtered_dfs, ignore_index=True)"
   ]
  },
  {
   "cell_type": "code",
   "execution_count": null,
   "metadata": {},
   "outputs": [],
   "source": [
    "result_df"
   ]
  },
  {
   "cell_type": "code",
   "execution_count": null,
   "metadata": {},
   "outputs": [],
   "source": [
    "merged_data = pd.merge(general_consumption, result_df, on=[\"StateCode\", \"Year\", \"Data_Status\"], how=\"left\")\n"
   ]
  },
  {
   "cell_type": "code",
   "execution_count": null,
   "metadata": {},
   "outputs": [],
   "source": [
    "\n",
    "merged_data"
   ]
  },
  {
   "cell_type": "code",
   "execution_count": null,
   "metadata": {},
   "outputs": [],
   "source": [
    "import pandas as pd\n",
    "pivoted_data = merged_data.pivot_table(index=[\"StateCode\", \"Year\", \"Data_Status\",\"MSN_x\",\"Data_x\"], columns=\"MSN_y\", values=\"Data_y\", aggfunc=\"first\")\n",
    "# Reset index to flatten the dataframe\n",
    "pivoted_data.reset_index(inplace=True)\n"
   ]
  },
  {
   "cell_type": "code",
   "execution_count": null,
   "metadata": {},
   "outputs": [],
   "source": [
    "pivoted_data"
   ]
  },
  {
   "cell_type": "code",
   "execution_count": null,
   "metadata": {},
   "outputs": [],
   "source": [
    "# Convert new_list_of_titles to a single regex pattern\n",
    "pattern1 = '|'.join(new_list_of_titles)\n",
    "\n",
    "# Use str.contains() with the regex pattern\n",
    "filtered_df11 = file1[file1['MSN'].str.contains(pattern1)]\n"
   ]
  },
  {
   "cell_type": "code",
   "execution_count": null,
   "metadata": {},
   "outputs": [],
   "source": [
    "filtered_df11"
   ]
  },
  {
   "cell_type": "code",
   "execution_count": null,
   "metadata": {},
   "outputs": [],
   "source": []
  }
 ],
 "metadata": {
  "kernelspec": {
   "display_name": ".venv",
   "language": "python",
   "name": "python3"
  },
  "language_info": {
   "codemirror_mode": {
    "name": "ipython",
    "version": 3
   },
   "file_extension": ".py",
   "mimetype": "text/x-python",
   "name": "python",
   "nbconvert_exporter": "python",
   "pygments_lexer": "ipython3",
   "version": "3.12.2"
  }
 },
 "nbformat": 4,
 "nbformat_minor": 2
}
