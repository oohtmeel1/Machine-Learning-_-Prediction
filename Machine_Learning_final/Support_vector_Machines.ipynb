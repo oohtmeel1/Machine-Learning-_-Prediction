{
 "cells": [
  {
   "cell_type": "markdown",
   "metadata": {},
   "source": [
    "# Support Vector Machines\n",
    "The Data has already been processed earlier. \n",
    "So I will use what I have"
   ]
  },
  {
   "cell_type": "code",
   "execution_count": 33,
   "metadata": {},
   "outputs": [],
   "source": [
    "from sklearn import svm\n",
    "from sklearn.svm import SVR\n",
    "from sklearn.pipeline import make_pipeline\n",
    "from sklearn.preprocessing import StandardScaler\n",
    "import pandas as pd\n",
    "import numpy as np\n",
    "import os\n",
    "from sklearn.utils import shuffle\n",
    "import matplotlib.pyplot as plt \n",
    "from openpyxl import Workbook\n",
    "pd.options.display.float_format = '{:.2f}'.format"
   ]
  },
  {
   "cell_type": "code",
   "execution_count": 2,
   "metadata": {},
   "outputs": [],
   "source": [
    "os.getcwd()\n",
    "os.chdir('c:\\\\Users\\\\amcfa\\\\gitfiles\\\\Projects\\\\MastersWork\\\\shorter_ML_Projects\\\\Machine-Learning-_-Prediction')\n",
    "X1=pd.read_csv(os.getcwd()+ '/X1.csv')\n",
    "X2=pd.read_csv(os.getcwd()+ '/X2.csv')\n",
    "from sklearn.utils import shuffle\n",
    "X1 = shuffle(X1)\n",
    "X2=shuffle(X2)\n",
    "y_train=X1['Data_x'].reset_index(drop=True) # Separating all of the data\n",
    "y_test=X2['Data_x'].reset_index(drop=True)\n",
    "X_train = X1.iloc[:,3: ]\n",
    "X_test = X2.iloc[:,3: ]"
   ]
  },
  {
   "cell_type": "code",
   "execution_count": 59,
   "metadata": {},
   "outputs": [
    {
     "data": {
      "text/html": [
       "<div>\n",
       "<style scoped>\n",
       "    .dataframe tbody tr th:only-of-type {\n",
       "        vertical-align: middle;\n",
       "    }\n",
       "\n",
       "    .dataframe tbody tr th {\n",
       "        vertical-align: top;\n",
       "    }\n",
       "\n",
       "    .dataframe thead th {\n",
       "        text-align: right;\n",
       "    }\n",
       "</style>\n",
       "<table border=\"1\" class=\"dataframe\">\n",
       "  <thead>\n",
       "    <tr style=\"text-align: right;\">\n",
       "      <th></th>\n",
       "      <th>GERCB</th>\n",
       "      <th>HLRCV</th>\n",
       "      <th>LORCB</th>\n",
       "      <th>NGRCV</th>\n",
       "      <th>PERCV</th>\n",
       "      <th>PQRCB</th>\n",
       "      <th>PQRCP</th>\n",
       "      <th>PQRCV</th>\n",
       "      <th>SORCB</th>\n",
       "      <th>SOTXB</th>\n",
       "      <th>TERCB</th>\n",
       "      <th>TERCV</th>\n",
       "      <th>TNRCB</th>\n",
       "      <th>TNRSB</th>\n",
       "      <th>WDRCV</th>\n",
       "      <th>StateCode</th>\n",
       "      <th>Year1</th>\n",
       "    </tr>\n",
       "  </thead>\n",
       "  <tbody>\n",
       "    <tr>\n",
       "      <th>2075</th>\n",
       "      <td>265.00</td>\n",
       "      <td>135.80</td>\n",
       "      <td>220440.00</td>\n",
       "      <td>423.50</td>\n",
       "      <td>631.00</td>\n",
       "      <td>0.00</td>\n",
       "      <td>0.00</td>\n",
       "      <td>0.00</td>\n",
       "      <td>19.00</td>\n",
       "      <td>19.00</td>\n",
       "      <td>362504.00</td>\n",
       "      <td>3118.10</td>\n",
       "      <td>142064.00</td>\n",
       "      <td>139457.00</td>\n",
       "      <td>10.30</td>\n",
       "      <td>40</td>\n",
       "      <td>35</td>\n",
       "    </tr>\n",
       "    <tr>\n",
       "      <th>1335</th>\n",
       "      <td>0.00</td>\n",
       "      <td>13.00</td>\n",
       "      <td>24084.00</td>\n",
       "      <td>50.00</td>\n",
       "      <td>83.20</td>\n",
       "      <td>0.00</td>\n",
       "      <td>0.00</td>\n",
       "      <td>0.00</td>\n",
       "      <td>0.00</td>\n",
       "      <td>0.00</td>\n",
       "      <td>68676.00</td>\n",
       "      <td>167.60</td>\n",
       "      <td>44592.00</td>\n",
       "      <td>39291.00</td>\n",
       "      <td>1.80</td>\n",
       "      <td>26</td>\n",
       "      <td>9</td>\n",
       "    </tr>\n",
       "    <tr>\n",
       "      <th>1134</th>\n",
       "      <td>0.00</td>\n",
       "      <td>126.80</td>\n",
       "      <td>171647.00</td>\n",
       "      <td>1718.60</td>\n",
       "      <td>2212.40</td>\n",
       "      <td>0.00</td>\n",
       "      <td>0.00</td>\n",
       "      <td>0.00</td>\n",
       "      <td>0.00</td>\n",
       "      <td>0.00</td>\n",
       "      <td>711880.00</td>\n",
       "      <td>3609.60</td>\n",
       "      <td>540233.00</td>\n",
       "      <td>504236.00</td>\n",
       "      <td>28.30</td>\n",
       "      <td>22</td>\n",
       "      <td>12</td>\n",
       "    </tr>\n",
       "    <tr>\n",
       "      <th>2293</th>\n",
       "      <td>96.00</td>\n",
       "      <td>66.70</td>\n",
       "      <td>64259.00</td>\n",
       "      <td>593.80</td>\n",
       "      <td>683.70</td>\n",
       "      <td>3054.00</td>\n",
       "      <td>795.00</td>\n",
       "      <td>66.70</td>\n",
       "      <td>3283.00</td>\n",
       "      <td>4150.00</td>\n",
       "      <td>187847.00</td>\n",
       "      <td>1696.70</td>\n",
       "      <td>123588.00</td>\n",
       "      <td>117743.00</td>\n",
       "      <td>20.50</td>\n",
       "      <td>44</td>\n",
       "      <td>49</td>\n",
       "    </tr>\n",
       "    <tr>\n",
       "      <th>2407</th>\n",
       "      <td>0.00</td>\n",
       "      <td>18.10</td>\n",
       "      <td>200369.00</td>\n",
       "      <td>158.00</td>\n",
       "      <td>340.50</td>\n",
       "      <td>0.00</td>\n",
       "      <td>0.00</td>\n",
       "      <td>0.00</td>\n",
       "      <td>0.00</td>\n",
       "      <td>0.00</td>\n",
       "      <td>348104.00</td>\n",
       "      <td>804.30</td>\n",
       "      <td>147735.00</td>\n",
       "      <td>141036.00</td>\n",
       "      <td>12.60</td>\n",
       "      <td>47</td>\n",
       "      <td>10</td>\n",
       "    </tr>\n",
       "  </tbody>\n",
       "</table>\n",
       "</div>"
      ],
      "text/plain": [
       "      GERCB  HLRCV     LORCB   NGRCV   PERCV   PQRCB  PQRCP  PQRCV   SORCB  \\\n",
       "2075 265.00 135.80 220440.00  423.50  631.00    0.00   0.00   0.00   19.00   \n",
       "1335   0.00  13.00  24084.00   50.00   83.20    0.00   0.00   0.00    0.00   \n",
       "1134   0.00 126.80 171647.00 1718.60 2212.40    0.00   0.00   0.00    0.00   \n",
       "2293  96.00  66.70  64259.00  593.80  683.70 3054.00 795.00  66.70 3283.00   \n",
       "2407   0.00  18.10 200369.00  158.00  340.50    0.00   0.00   0.00    0.00   \n",
       "\n",
       "       SOTXB     TERCB   TERCV     TNRCB     TNRSB  WDRCV  StateCode  Year1  \n",
       "2075   19.00 362504.00 3118.10 142064.00 139457.00  10.30         40     35  \n",
       "1335    0.00  68676.00  167.60  44592.00  39291.00   1.80         26      9  \n",
       "1134    0.00 711880.00 3609.60 540233.00 504236.00  28.30         22     12  \n",
       "2293 4150.00 187847.00 1696.70 123588.00 117743.00  20.50         44     49  \n",
       "2407    0.00 348104.00  804.30 147735.00 141036.00  12.60         47     10  "
      ]
     },
     "execution_count": 59,
     "metadata": {},
     "output_type": "execute_result"
    }
   ],
   "source": [
    "X_train.head()"
   ]
  },
  {
   "cell_type": "code",
   "execution_count": 60,
   "metadata": {},
   "outputs": [],
   "source": [
    "from sklearn.svm import SVR\n",
    "from sklearn.pipeline import make_pipeline\n",
    "from sklearn.preprocessing import StandardScaler\n",
    "import numpy as np\n",
    "regr = make_pipeline(StandardScaler(), SVR(C=1.0, epsilon=0.2))\n",
    "y_pred=regr.fit(X_train, y_train).predict(X_test)"
   ]
  },
  {
   "cell_type": "code",
   "execution_count": 61,
   "metadata": {},
   "outputs": [
    {
     "data": {
      "text/plain": [
       "array([ 977.92486621, 1209.01614133, 1354.67036916, 1253.89586309,\n",
       "       1122.67358295,  920.10111759, 1034.50174983, 1150.15691557,\n",
       "        971.54096723, 1293.24989553, 1112.40803073, 1278.20375496,\n",
       "       1329.90722187,  984.75180861, 1224.35819204, 1326.4732682 ,\n",
       "       1316.84320549, 1166.27131421, 1238.27645064,  943.97170474,\n",
       "       1091.27421738, 1182.13004497, 1274.64419582, 1136.7248343 ,\n",
       "       1270.80545033,  966.16999788, 1310.41326693, 1207.3991712 ,\n",
       "       1288.01705298, 1089.27285846, 1224.27549539, 1084.32632661,\n",
       "       1064.2080724 , 1005.06078697, 1328.29834461, 1086.20309051,\n",
       "       1364.70541631, 1268.01864998, 1331.90227112, 1007.07166557,\n",
       "       1221.92312445, 1232.01267598, 1153.72889648, 1405.93626629,\n",
       "       1245.12995325, 1230.09620099, 1043.88408002, 1280.83985998,\n",
       "       1317.01277537, 1247.22665424, 1230.5848949 ])"
      ]
     },
     "execution_count": 61,
     "metadata": {},
     "output_type": "execute_result"
    }
   ],
   "source": [
    "y_pred"
   ]
  },
  {
   "cell_type": "code",
   "execution_count": 62,
   "metadata": {},
   "outputs": [
    {
     "data": {
      "text/html": [
       "<div>\n",
       "<style scoped>\n",
       "    .dataframe tbody tr th:only-of-type {\n",
       "        vertical-align: middle;\n",
       "    }\n",
       "\n",
       "    .dataframe tbody tr th {\n",
       "        vertical-align: top;\n",
       "    }\n",
       "\n",
       "    .dataframe thead th {\n",
       "        text-align: right;\n",
       "    }\n",
       "</style>\n",
       "<table border=\"1\" class=\"dataframe\">\n",
       "  <thead>\n",
       "    <tr style=\"text-align: right;\">\n",
       "      <th></th>\n",
       "      <th>true</th>\n",
       "      <th>predicted</th>\n",
       "      <th>how_off</th>\n",
       "    </tr>\n",
       "  </thead>\n",
       "  <tbody>\n",
       "    <tr>\n",
       "      <th>0</th>\n",
       "      <td>616.50</td>\n",
       "      <td>977.92</td>\n",
       "      <td>-58.63</td>\n",
       "    </tr>\n",
       "  </tbody>\n",
       "</table>\n",
       "</div>"
      ],
      "text/plain": [
       "    true  predicted  how_off\n",
       "0 616.50     977.92   -58.63"
      ]
     },
     "execution_count": 62,
     "metadata": {},
     "output_type": "execute_result"
    }
   ],
   "source": [
    "y_true =y_test\n",
    "results_trial1=pd.DataFrame(y_pred,y_true).reset_index()\n",
    "results_trial1=pd.DataFrame(y_pred,y_true).reset_index()\n",
    "results_trial1=results_trial1.rename(columns={'Data_x':'true',0:'predicted'})\n",
    "results_trial1['how_off']= ((results_trial1['true']-results_trial1['predicted'])/results_trial1['true'])*100\n",
    "results_trial1.head(1)\n"
   ]
  },
  {
   "cell_type": "code",
   "execution_count": 63,
   "metadata": {},
   "outputs": [
    {
     "data": {
      "text/plain": [
       "<matplotlib.legend.Legend at 0x22885170290>"
      ]
     },
     "execution_count": 63,
     "metadata": {},
     "output_type": "execute_result"
    },
    {
     "data": {
      "image/png": "[encoded data removed]",
      "text/plain": [
       "<Figure size 640x480 with 1 Axes>"
      ]
     },
     "metadata": {},
     "output_type": "display_data"
    }
   ],
   "source": [
    "r1 = np.arange(len(results_trial1['true']))\n",
    "\n",
    "plt.bar(r1, results_trial1['true'], color='#7f6d5f', edgecolor='white', label='true values')\n",
    "plt.scatter(r1, results_trial1['predicted'], color='#557f2d', edgecolor='white', label='predicted values')\n",
    "plt.xlabel('Run #')\n",
    "plt.ylabel('Predicted Values')\n",
    "plt.title('Predicted value vs true value')\n",
    "\n",
    "plt.legend()"
   ]
  },
  {
   "cell_type": "markdown",
   "metadata": {},
   "source": [
    "# Parameter Optimazation"
   ]
  },
  {
   "cell_type": "code",
   "execution_count": 7,
   "metadata": {},
   "outputs": [],
   "source": [
    "#Gridsearch is being slow even with minimum params set. So I wil do this the old fashioned way.\n"
   ]
  },
  {
   "cell_type": "code",
   "execution_count": 36,
   "metadata": {},
   "outputs": [],
   "source": [
    "from sklearn.svm import SVR\n",
    "from sklearn.pipeline import make_pipeline\n",
    "from sklearn.preprocessing import StandardScaler\n",
    "import numpy as np\n",
    "from sklearn.metrics import mean_absolute_error\n",
    "from sklearn.metrics import mean_squared_error\n",
    "from sklearn.metrics import explained_variance_score\n",
    "from sklearn.metrics import r2_score\n",
    "\n",
    "\n",
    "m=20\n",
    "abc=[]\n",
    "defg=[]\n",
    "for i in range(1,m):\n",
    "\tregr = make_pipeline(StandardScaler(), SVR(C=i, epsilon=0.2))\n",
    "\ty_pred=regr.fit(X_train, y_train).predict(X_test)\n",
    "\tabc.append((mean_absolute_error(y_true, y_pred),\n",
    "            mean_squared_error(y_true, y_pred),explained_variance_score(y_true, y_pred),r2_score(y_true, y_pred)))\n",
    "\tdefg.append(y_true)\n",
    "\tpqr=pd.DataFrame(abc).T"
   ]
  },
  {
   "cell_type": "code",
   "execution_count": 39,
   "metadata": {},
   "outputs": [],
   "source": [
    "pqr=pqr.rename(index={0:'Mean Absolute error',1:'Mean Squared error',2:'explained variance',3:'r_2 score'})"
   ]
  },
  {
   "cell_type": "markdown",
   "metadata": {},
   "source": [
    "Going to use "
   ]
  },
  {
   "cell_type": "code",
   "execution_count": 40,
   "metadata": {},
   "outputs": [
    {
     "data": {
      "text/html": [
       "<div>\n",
       "<style scoped>\n",
       "    .dataframe tbody tr th:only-of-type {\n",
       "        vertical-align: middle;\n",
       "    }\n",
       "\n",
       "    .dataframe tbody tr th {\n",
       "        vertical-align: top;\n",
       "    }\n",
       "\n",
       "    .dataframe thead th {\n",
       "        text-align: right;\n",
       "    }\n",
       "</style>\n",
       "<table border=\"1\" class=\"dataframe\">\n",
       "  <thead>\n",
       "    <tr style=\"text-align: right;\">\n",
       "      <th></th>\n",
       "      <th>0</th>\n",
       "      <th>1</th>\n",
       "      <th>2</th>\n",
       "      <th>3</th>\n",
       "      <th>4</th>\n",
       "      <th>5</th>\n",
       "      <th>6</th>\n",
       "      <th>7</th>\n",
       "      <th>8</th>\n",
       "      <th>9</th>\n",
       "      <th>10</th>\n",
       "      <th>11</th>\n",
       "      <th>12</th>\n",
       "      <th>13</th>\n",
       "      <th>14</th>\n",
       "      <th>15</th>\n",
       "      <th>16</th>\n",
       "      <th>17</th>\n",
       "      <th>18</th>\n",
       "    </tr>\n",
       "  </thead>\n",
       "  <tbody>\n",
       "    <tr>\n",
       "      <th>Mean Absolute error</th>\n",
       "      <td>2957.51</td>\n",
       "      <td>2792.97</td>\n",
       "      <td>2668.64</td>\n",
       "      <td>2572.99</td>\n",
       "      <td>2492.08</td>\n",
       "      <td>2429.53</td>\n",
       "      <td>2375.58</td>\n",
       "      <td>2321.06</td>\n",
       "      <td>2278.06</td>\n",
       "      <td>2235.52</td>\n",
       "      <td>2200.26</td>\n",
       "      <td>2170.31</td>\n",
       "      <td>2141.14</td>\n",
       "      <td>2112.25</td>\n",
       "      <td>2084.62</td>\n",
       "      <td>2055.50</td>\n",
       "      <td>2032.23</td>\n",
       "      <td>2011.19</td>\n",
       "      <td>1991.73</td>\n",
       "    </tr>\n",
       "    <tr>\n",
       "      <th>Mean Squared error</th>\n",
       "      <td>25384127.52</td>\n",
       "      <td>23871450.82</td>\n",
       "      <td>22780424.66</td>\n",
       "      <td>21903785.80</td>\n",
       "      <td>21147071.61</td>\n",
       "      <td>20601187.44</td>\n",
       "      <td>20141386.39</td>\n",
       "      <td>19694202.68</td>\n",
       "      <td>19352235.38</td>\n",
       "      <td>19008309.65</td>\n",
       "      <td>18712479.71</td>\n",
       "      <td>18464580.07</td>\n",
       "      <td>18242558.35</td>\n",
       "      <td>18007064.25</td>\n",
       "      <td>17809060.63</td>\n",
       "      <td>17590235.98</td>\n",
       "      <td>17435750.07</td>\n",
       "      <td>17301447.61</td>\n",
       "      <td>17182899.08</td>\n",
       "    </tr>\n",
       "    <tr>\n",
       "      <th>explained variance</th>\n",
       "      <td>0.03</td>\n",
       "      <td>0.05</td>\n",
       "      <td>0.06</td>\n",
       "      <td>0.08</td>\n",
       "      <td>0.09</td>\n",
       "      <td>0.10</td>\n",
       "      <td>0.11</td>\n",
       "      <td>0.12</td>\n",
       "      <td>0.13</td>\n",
       "      <td>0.14</td>\n",
       "      <td>0.15</td>\n",
       "      <td>0.16</td>\n",
       "      <td>0.17</td>\n",
       "      <td>0.17</td>\n",
       "      <td>0.18</td>\n",
       "      <td>0.19</td>\n",
       "      <td>0.19</td>\n",
       "      <td>0.20</td>\n",
       "      <td>0.20</td>\n",
       "    </tr>\n",
       "    <tr>\n",
       "      <th>r_2 score</th>\n",
       "      <td>-0.39</td>\n",
       "      <td>-0.31</td>\n",
       "      <td>-0.25</td>\n",
       "      <td>-0.20</td>\n",
       "      <td>-0.16</td>\n",
       "      <td>-0.13</td>\n",
       "      <td>-0.10</td>\n",
       "      <td>-0.08</td>\n",
       "      <td>-0.06</td>\n",
       "      <td>-0.04</td>\n",
       "      <td>-0.02</td>\n",
       "      <td>-0.01</td>\n",
       "      <td>0.00</td>\n",
       "      <td>0.02</td>\n",
       "      <td>0.03</td>\n",
       "      <td>0.04</td>\n",
       "      <td>0.05</td>\n",
       "      <td>0.05</td>\n",
       "      <td>0.06</td>\n",
       "    </tr>\n",
       "  </tbody>\n",
       "</table>\n",
       "</div>"
      ],
      "text/plain": [
       "                             0           1           2           3   \\\n",
       "Mean Absolute error     2957.51     2792.97     2668.64     2572.99   \n",
       "Mean Squared error  25384127.52 23871450.82 22780424.66 21903785.80   \n",
       "explained variance         0.03        0.05        0.06        0.08   \n",
       "r_2 score                 -0.39       -0.31       -0.25       -0.20   \n",
       "\n",
       "                             4           5           6           7   \\\n",
       "Mean Absolute error     2492.08     2429.53     2375.58     2321.06   \n",
       "Mean Squared error  21147071.61 20601187.44 20141386.39 19694202.68   \n",
       "explained variance         0.09        0.10        0.11        0.12   \n",
       "r_2 score                 -0.16       -0.13       -0.10       -0.08   \n",
       "\n",
       "                             8           9           10          11  \\\n",
       "Mean Absolute error     2278.06     2235.52     2200.26     2170.31   \n",
       "Mean Squared error  19352235.38 19008309.65 18712479.71 18464580.07   \n",
       "explained variance         0.13        0.14        0.15        0.16   \n",
       "r_2 score                 -0.06       -0.04       -0.02       -0.01   \n",
       "\n",
       "                             12          13          14          15  \\\n",
       "Mean Absolute error     2141.14     2112.25     2084.62     2055.50   \n",
       "Mean Squared error  18242558.35 18007064.25 17809060.63 17590235.98   \n",
       "explained variance         0.17        0.17        0.18        0.19   \n",
       "r_2 score                  0.00        0.02        0.03        0.04   \n",
       "\n",
       "                             16          17          18  \n",
       "Mean Absolute error     2032.23     2011.19     1991.73  \n",
       "Mean Squared error  17435750.07 17301447.61 17182899.08  \n",
       "explained variance         0.19        0.20        0.20  \n",
       "r_2 score                  0.05        0.05        0.06  "
      ]
     },
     "execution_count": 40,
     "metadata": {},
     "output_type": "execute_result"
    }
   ],
   "source": [
    "pqr"
   ]
  },
  {
   "cell_type": "code",
   "execution_count": null,
   "metadata": {},
   "outputs": [],
   "source": [
    "min(pqr.abs().min())"
   ]
  },
  {
   "cell_type": "code",
   "execution_count": 68,
   "metadata": {},
   "outputs": [
    {
     "data": {
      "text/html": [
       "<div>\n",
       "<style scoped>\n",
       "    .dataframe tbody tr th:only-of-type {\n",
       "        vertical-align: middle;\n",
       "    }\n",
       "\n",
       "    .dataframe tbody tr th {\n",
       "        vertical-align: top;\n",
       "    }\n",
       "\n",
       "    .dataframe thead th {\n",
       "        text-align: right;\n",
       "    }\n",
       "</style>\n",
       "<table border=\"1\" class=\"dataframe\">\n",
       "  <thead>\n",
       "    <tr style=\"text-align: right;\">\n",
       "      <th></th>\n",
       "      <th>0</th>\n",
       "      <th>1</th>\n",
       "      <th>2</th>\n",
       "      <th>3</th>\n",
       "      <th>4</th>\n",
       "      <th>5</th>\n",
       "      <th>6</th>\n",
       "      <th>7</th>\n",
       "      <th>8</th>\n",
       "      <th>9</th>\n",
       "      <th>...</th>\n",
       "      <th>14</th>\n",
       "      <th>15</th>\n",
       "      <th>16</th>\n",
       "      <th>17</th>\n",
       "      <th>18</th>\n",
       "      <th>19</th>\n",
       "      <th>20</th>\n",
       "      <th>21</th>\n",
       "      <th>22</th>\n",
       "      <th>23</th>\n",
       "    </tr>\n",
       "  </thead>\n",
       "  <tbody>\n",
       "    <tr>\n",
       "      <th>0</th>\n",
       "      <td>807.71</td>\n",
       "      <td>647.52</td>\n",
       "      <td>555.42</td>\n",
       "      <td>477.29</td>\n",
       "      <td>423.09</td>\n",
       "      <td>372.50</td>\n",
       "      <td>335.77</td>\n",
       "      <td>300.17</td>\n",
       "      <td>268.50</td>\n",
       "      <td>236.27</td>\n",
       "      <td>...</td>\n",
       "      <td>98.01</td>\n",
       "      <td>73.16</td>\n",
       "      <td>49.17</td>\n",
       "      <td>26.34</td>\n",
       "      <td>6.56</td>\n",
       "      <td>1.48</td>\n",
       "      <td>0.91</td>\n",
       "      <td>0.61</td>\n",
       "      <td>0.50</td>\n",
       "      <td>0.43</td>\n",
       "    </tr>\n",
       "    <tr>\n",
       "      <th>1</th>\n",
       "      <td>2234662.17</td>\n",
       "      <td>1420285.52</td>\n",
       "      <td>1035246.76</td>\n",
       "      <td>770271.34</td>\n",
       "      <td>594246.41</td>\n",
       "      <td>464131.87</td>\n",
       "      <td>373375.22</td>\n",
       "      <td>297778.33</td>\n",
       "      <td>238012.15</td>\n",
       "      <td>184288.86</td>\n",
       "      <td>...</td>\n",
       "      <td>31005.94</td>\n",
       "      <td>17208.54</td>\n",
       "      <td>7750.25</td>\n",
       "      <td>2210.91</td>\n",
       "      <td>136.78</td>\n",
       "      <td>6.71</td>\n",
       "      <td>2.42</td>\n",
       "      <td>1.04</td>\n",
       "      <td>0.68</td>\n",
       "      <td>0.49</td>\n",
       "    </tr>\n",
       "    <tr>\n",
       "      <th>2</th>\n",
       "      <td>0.89</td>\n",
       "      <td>0.93</td>\n",
       "      <td>0.95</td>\n",
       "      <td>0.96</td>\n",
       "      <td>0.97</td>\n",
       "      <td>0.98</td>\n",
       "      <td>0.98</td>\n",
       "      <td>0.98</td>\n",
       "      <td>0.99</td>\n",
       "      <td>0.99</td>\n",
       "      <td>...</td>\n",
       "      <td>1.00</td>\n",
       "      <td>1.00</td>\n",
       "      <td>1.00</td>\n",
       "      <td>1.00</td>\n",
       "      <td>1.00</td>\n",
       "      <td>1.00</td>\n",
       "      <td>1.00</td>\n",
       "      <td>1.00</td>\n",
       "      <td>1.00</td>\n",
       "      <td>1.00</td>\n",
       "    </tr>\n",
       "    <tr>\n",
       "      <th>3</th>\n",
       "      <td>0.88</td>\n",
       "      <td>0.92</td>\n",
       "      <td>0.94</td>\n",
       "      <td>0.96</td>\n",
       "      <td>0.97</td>\n",
       "      <td>0.97</td>\n",
       "      <td>0.98</td>\n",
       "      <td>0.98</td>\n",
       "      <td>0.99</td>\n",
       "      <td>0.99</td>\n",
       "      <td>...</td>\n",
       "      <td>1.00</td>\n",
       "      <td>1.00</td>\n",
       "      <td>1.00</td>\n",
       "      <td>1.00</td>\n",
       "      <td>1.00</td>\n",
       "      <td>1.00</td>\n",
       "      <td>1.00</td>\n",
       "      <td>1.00</td>\n",
       "      <td>1.00</td>\n",
       "      <td>1.00</td>\n",
       "    </tr>\n",
       "  </tbody>\n",
       "</table>\n",
       "<p>4 rows × 24 columns</p>\n",
       "</div>"
      ],
      "text/plain": [
       "          0          1          2         3         4         5         6   \\\n",
       "0     807.71     647.52     555.42    477.29    423.09    372.50    335.77   \n",
       "1 2234662.17 1420285.52 1035246.76 770271.34 594246.41 464131.87 373375.22   \n",
       "2       0.89       0.93       0.95      0.96      0.97      0.98      0.98   \n",
       "3       0.88       0.92       0.94      0.96      0.97      0.97      0.98   \n",
       "\n",
       "         7         8         9   ...       14       15      16      17     18  \\\n",
       "0    300.17    268.50    236.27  ...    98.01    73.16   49.17   26.34   6.56   \n",
       "1 297778.33 238012.15 184288.86  ... 31005.94 17208.54 7750.25 2210.91 136.78   \n",
       "2      0.98      0.99      0.99  ...     1.00     1.00    1.00    1.00   1.00   \n",
       "3      0.98      0.99      0.99  ...     1.00     1.00    1.00    1.00   1.00   \n",
       "\n",
       "    19   20   21   22   23  \n",
       "0 1.48 0.91 0.61 0.50 0.43  \n",
       "1 6.71 2.42 1.04 0.68 0.49  \n",
       "2 1.00 1.00 1.00 1.00 1.00  \n",
       "3 1.00 1.00 1.00 1.00 1.00  \n",
       "\n",
       "[4 rows x 24 columns]"
      ]
     },
     "execution_count": 68,
     "metadata": {},
     "output_type": "execute_result"
    }
   ],
   "source": [
    "m=25\n",
    "abc=[]\n",
    "defg=[]\n",
    "#This needs to run 3 times and in those 3 times. Needs to give results\n",
    "for i in range(1,m):\n",
    "\tregr = make_pipeline(StandardScaler(), SVR(C=i,kernel='linear', epsilon=0.2))\n",
    "\ty_pred=regr.fit(X_train, y_train).predict(X_test)\n",
    "\tabc.append((mean_absolute_error(y_true, y_pred),\n",
    "            mean_squared_error(y_true, y_pred),explained_variance_score(y_true, y_pred),r2_score(y_true, y_pred)))\n",
    "\tdefg.append(y_true)\n",
    "\tpqr=pd.DataFrame(abc).T\n",
    "pqr"
   ]
  },
  {
   "cell_type": "code",
   "execution_count": 69,
   "metadata": {},
   "outputs": [],
   "source": [
    "transpose_again= pqr.T"
   ]
  },
  {
   "cell_type": "code",
   "execution_count": 79,
   "metadata": {},
   "outputs": [
    {
     "data": {
      "text/plain": [
       "<matplotlib.legend.Legend at 0x22887e88c20>"
      ]
     },
     "execution_count": 79,
     "metadata": {},
     "output_type": "execute_result"
    },
    {
     "data": {
      "image/png": "[encoded data removed]",
      "text/plain": [
       "<Figure size 640x480 with 1 Axes>"
      ]
     },
     "metadata": {},
     "output_type": "display_data"
    }
   ],
   "source": [
    "r1 = np.arange(len(transpose_again))\n",
    "\n",
    "plt.scatter(r1, transpose_again[2], color='#7f6d5f', edgecolor='white', label='Explained Variance')\n",
    "plt.scatter(r1, transpose_again[3], color='#557f2d', edgecolor='white', label='R_2')\n",
    "plt.xlabel('Run #')\n",
    "plt.ylabel('Predicted Values')\n",
    "plt.title('R_2 and Explained Variance results')\n",
    "\n",
    "plt.legend()"
   ]
  },
  {
   "cell_type": "code",
   "execution_count": 10,
   "metadata": {},
   "outputs": [
    {
     "name": "stdout",
     "output_type": "stream",
     "text": [
      "<class 'pandas.core.frame.DataFrame'>\n",
      "RangeIndex: 51 entries, 0 to 50\n",
      "Data columns (total 19 columns):\n",
      " #   Column  Non-Null Count  Dtype  \n",
      "---  ------  --------------  -----  \n",
      " 0   0       51 non-null     float64\n",
      " 1   1       51 non-null     float64\n",
      " 2   2       51 non-null     float64\n",
      " 3   3       51 non-null     float64\n",
      " 4   4       51 non-null     float64\n",
      " 5   5       51 non-null     float64\n",
      " 6   6       51 non-null     float64\n",
      " 7   7       51 non-null     float64\n",
      " 8   8       51 non-null     float64\n",
      " 9   9       51 non-null     float64\n",
      " 10  10      51 non-null     float64\n",
      " 11  11      51 non-null     float64\n",
      " 12  12      51 non-null     float64\n",
      " 13  13      51 non-null     float64\n",
      " 14  14      51 non-null     float64\n",
      " 15  15      51 non-null     float64\n",
      " 16  16      51 non-null     float64\n",
      " 17  17      51 non-null     float64\n",
      " 18  18      51 non-null     float64\n",
      "dtypes: float64(19)\n",
      "memory usage: 7.7 KB\n"
     ]
    }
   ],
   "source": [
    "#Now we have some X_vales\n",
    "shorter1=pd.DataFrame(abc).T\n",
    "shorter1.info()"
   ]
  },
  {
   "cell_type": "code",
   "execution_count": 80,
   "metadata": {},
   "outputs": [],
   "source": [
    "from sklearn.svm import SVR\n",
    "from sklearn.pipeline import make_pipeline\n",
    "from sklearn.preprocessing import StandardScaler\n",
    "import numpy as np\n",
    "regr = make_pipeline(StandardScaler(), SVR(C=23.0, epsilon=0.2,kernel='linear'))\n",
    "y_pred=regr.fit(X_train, y_train).predict(X_test)"
   ]
  },
  {
   "cell_type": "code",
   "execution_count": 81,
   "metadata": {},
   "outputs": [
    {
     "data": {
      "text/html": [
       "<div>\n",
       "<style scoped>\n",
       "    .dataframe tbody tr th:only-of-type {\n",
       "        vertical-align: middle;\n",
       "    }\n",
       "\n",
       "    .dataframe tbody tr th {\n",
       "        vertical-align: top;\n",
       "    }\n",
       "\n",
       "    .dataframe thead th {\n",
       "        text-align: right;\n",
       "    }\n",
       "</style>\n",
       "<table border=\"1\" class=\"dataframe\">\n",
       "  <thead>\n",
       "    <tr style=\"text-align: right;\">\n",
       "      <th></th>\n",
       "      <th>true</th>\n",
       "      <th>predicted</th>\n",
       "      <th>how_off</th>\n",
       "    </tr>\n",
       "  </thead>\n",
       "  <tbody>\n",
       "    <tr>\n",
       "      <th>0</th>\n",
       "      <td>616.50</td>\n",
       "      <td>616.62</td>\n",
       "      <td>-0.02</td>\n",
       "    </tr>\n",
       "  </tbody>\n",
       "</table>\n",
       "</div>"
      ],
      "text/plain": [
       "    true  predicted  how_off\n",
       "0 616.50     616.62    -0.02"
      ]
     },
     "execution_count": 81,
     "metadata": {},
     "output_type": "execute_result"
    }
   ],
   "source": [
    "y_true =y_test\n",
    "results_trial1=pd.DataFrame(y_pred,y_true).reset_index()\n",
    "results_trial1=pd.DataFrame(y_pred,y_true).reset_index()\n",
    "results_trial1=results_trial1.rename(columns={'Data_x':'true',0:'predicted'})\n",
    "results_trial1['how_off']= ((results_trial1['true']-results_trial1['predicted'])/results_trial1['true'])*100\n",
    "results_trial1.head(1)"
   ]
  },
  {
   "cell_type": "code",
   "execution_count": 84,
   "metadata": {},
   "outputs": [
    {
     "data": {
      "text/plain": [
       "<matplotlib.legend.Legend at 0x2288516f800>"
      ]
     },
     "execution_count": 84,
     "metadata": {},
     "output_type": "execute_result"
    },
    {
     "data": {
      "image/png": "[encoded data removed]",
      "text/plain": [
       "<Figure size 640x480 with 1 Axes>"
      ]
     },
     "metadata": {},
     "output_type": "display_data"
    }
   ],
   "source": [
    "r1 = np.arange(len(results_trial1['true']))\n",
    "\n",
    "plt.bar(r1, results_trial1['true'], color='purple', edgecolor='white', label='true values')\n",
    "plt.scatter(r1, results_trial1['predicted'], color='orange', edgecolor='white', label='predicted values')\n",
    "plt.xlabel('Run #')\n",
    "plt.ylabel('Predicted Values')\n",
    "plt.title('Predicted value vs true value')\n",
    "\n",
    "plt.legend()"
   ]
  },
  {
   "cell_type": "code",
   "execution_count": null,
   "metadata": {},
   "outputs": [],
   "source": []
  }
 ],
 "metadata": {
  "kernelspec": {
   "display_name": "Python 3",
   "language": "python",
   "name": "python3"
  },
  "language_info": {
   "codemirror_mode": {
    "name": "ipython",
    "version": 3
   },
   "file_extension": ".py",
   "mimetype": "text/x-python",
   "name": "python",
   "nbconvert_exporter": "python",
   "pygments_lexer": "ipython3",
   "version": "3.12.2"
  }
 },
 "nbformat": 4,
 "nbformat_minor": 2
}
